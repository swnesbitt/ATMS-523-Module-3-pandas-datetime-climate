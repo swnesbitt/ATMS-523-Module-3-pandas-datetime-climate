{
 "cells": [
  {
   "cell_type": "markdown",
   "id": "fa23c5a2",
   "metadata": {},
   "source": [
    "# 01 — Pandas `groupby` + Datetime on GHCN Parquet\n",
    "This exercise loads the Parquet produced by **Notebook 02** and demonstrates standard `groupby` + datetime analyses.\n",
    "You can read locally or (after you push to GitHub) via a **cloud HTTPS raw** URL."
   ]
  },
  {
   "cell_type": "code",
   "execution_count": null,
   "id": "0ff8aba0",
   "metadata": {},
   "outputs": [],
   "source": [
    "import pandas as pd, numpy as np\n",
    "from pathlib import Path\n",
    "\n",
    "# Primary local artifact produced by 02_fetch_ghcn_il_to_parquet.ipynb\n",
    "LOCAL_PARQUET = '../data/ghcn_il_top4_daily.parquet'\n",
    "\n",
    "# After pushing to GitHub, set this to your repo's raw URL to read from the cloud:\n",
    "CLOUD_PARQUET = None  # e.g., 'https://raw.githubusercontent.com/USER/REPO/main/data/ghcn_il_top4_daily.parquet'\n",
    "\n",
    "def read_cloud_first(cloud_url, local_fallback):\n",
    "    try:\n",
    "        if cloud_url:\n",
    "            df = pd.read_parquet(cloud_url)  # needs pyarrow/fastparquet\n",
    "            print('Loaded from cloud:', cloud_url)\n",
    "            return df\n",
    "    except Exception as e:\n",
    "        print('Cloud read failed → using local:', type(e).__name__, str(e)[:120])\n",
    "    print('Loaded local:', local_fallback)\n",
    "    return pd.read_parquet(local_fallback)\n",
    "\n",
    "df = read_cloud_first(CLOUD_PARQUET, LOCAL_PARQUET).sort_values(['ID','DATE']).reset_index(drop=True)\n",
    "df.dtypes"
   ]
  },
  {
   "cell_type": "markdown",
   "id": "8aba0f1d",
   "metadata": {},
   "source": [
    "## 1) Add datetime helpers"
   ]
  },
  {
   "cell_type": "code",
   "execution_count": null,
   "id": "ea8e2e19",
   "metadata": {},
   "outputs": [],
   "source": [
    "df['DATE'].dt.year"
   ]
  },
  {
   "cell_type": "code",
   "execution_count": null,
   "id": "446d24e3",
   "metadata": {},
   "outputs": [],
   "source": [
    "df['year']  = pd.to_datetime(df['DATE']).dt.year\n",
    "df['month'] = pd.to_datetime(df['DATE']).dt.month\n",
    "df['ym']    = pd.to_datetime(df['DATE']).dt.to_period('M')\n",
    "df.head()"
   ]
  },
  {
   "cell_type": "markdown",
   "id": "91112aad",
   "metadata": {},
   "source": [
    "## 2) Monthly means & totals by station"
   ]
  },
  {
   "cell_type": "code",
   "execution_count": null,
   "id": "63802ca9",
   "metadata": {},
   "outputs": [],
   "source": [
    "monthly = (\n",
    "    df.groupby(['ID','ym'], as_index=False)\n",
    "      .agg(TMIN=('TMIN','mean'), TMAX=('TMAX','mean'), PRCP=('PRCP','sum'))\n",
    ")\n",
    "monthly_piv = monthly.pivot(index='ym', columns='ID', values='PRCP')\n",
    "#monthly.head(), monthly_piv.head()"
   ]
  },
  {
   "cell_type": "code",
   "execution_count": null,
   "id": "35530216",
   "metadata": {},
   "outputs": [],
   "source": [
    "monthly_piv.plot()"
   ]
  },
  {
   "cell_type": "markdown",
   "id": "05341cb5",
   "metadata": {},
   "source": [
    "**Try it:** Compute monthly *median* `TMAX` by station."
   ]
  },
  {
   "cell_type": "code",
   "execution_count": null,
   "id": "1f501198",
   "metadata": {},
   "outputs": [],
   "source": [
    "monthly_median = df.groupby(['ID','ym'], as_index=False)['TMAX'].median()\n",
    "monthly_median"
   ]
  },
  {
   "cell_type": "code",
   "execution_count": null,
   "id": "7cee1488",
   "metadata": {},
   "outputs": [],
   "source": [
    "monthly_median = df.groupby(['ID','year'], as_index=False)['TMAX'].median()\n",
    "monthlycomposite_piv = monthly_median.pivot(index='year', columns='ID', values='TMAX')\n",
    "monthlycomposite_piv.plot()"
   ]
  },
  {
   "cell_type": "markdown",
   "id": "b5d130b5",
   "metadata": {},
   "source": [
    "## 3) Annual precipitation totals and rankings"
   ]
  },
  {
   "cell_type": "markdown",
   "id": "683cb147",
   "metadata": {},
   "source": [
    "Rank each station in each year for its precipitation totals"
   ]
  },
  {
   "cell_type": "code",
   "execution_count": null,
   "id": "cfbab48f",
   "metadata": {},
   "outputs": [],
   "source": [
    "annual_prcp = (\n",
    "    df.groupby(['ID','year'], as_index=False)\n",
    "      .agg(annual_prcp_mm=('PRCP','sum'))\n",
    ")\n",
    "annual_prcp['rank_within_year'] = annual_prcp.groupby('year')['annual_prcp_mm'].rank(ascending=False, method='min')\n",
    "annual_prcp.sort_values(['year','rank_within_year'])"
   ]
  },
  {
   "cell_type": "markdown",
   "id": "568d6226",
   "metadata": {},
   "source": [
    "**Try it:** Rank warmest daily report station per year using mean `TMAX`."
   ]
  },
  {
   "cell_type": "code",
   "execution_count": null,
   "id": "057e6b38",
   "metadata": {},
   "outputs": [],
   "source": [
    "# Drop rows without TMAX, then find the row with the max TMAX within each year\n",
    "df_nonan = df.dropna(subset=['TMAX']).copy()\n",
    "df_nonan['DATE'] = pd.to_datetime(df_nonan['DATE'])\n",
    "df_nonan['year'] = df_nonan['DATE'].dt.year\n",
    "\n",
    "idx = df_nonan.groupby('year')['TMAX'].idxmax()\n",
    "\n",
    "warmest_by_abs = (\n",
    "    df_nonan.loc[idx, ['year', 'ID', 'DATE', 'TMAX']]\n",
    "            .rename(columns={'TMAX': 'tmax_abs_c'})\n",
    "            .sort_values('year')\n",
    "            .reset_index(drop=True)\n",
    ")\n",
    "\n",
    "warmest_by_abs\n"
   ]
  },
  {
   "cell_type": "markdown",
   "id": "764f847f",
   "metadata": {},
   "source": [
    "## 4) Station-by-month climatology (using whatever is present)"
   ]
  },
  {
   "cell_type": "code",
   "execution_count": null,
   "id": "a51d208b",
   "metadata": {},
   "outputs": [],
   "source": [
    "climo = df.groupby(['ID','month'], as_index=False)['TMAX'].mean()\n",
    "climo_piv = climo.pivot(index='month', columns='ID', values='TMAX')\n",
    "climo_piv"
   ]
  },
  {
   "cell_type": "markdown",
   "id": "9e5ade33",
   "metadata": {},
   "source": [
    "**Try it:** Compute monthly precipitation climatology (sum of `PRCP` across years)."
   ]
  },
  {
   "cell_type": "code",
   "execution_count": null,
   "id": "453ec81d",
   "metadata": {},
   "outputs": [],
   "source": [
    "# Sum precipitation within each station × year × month\n",
    "monthly_sums = (\n",
    "    df.groupby(['ID', 'year', 'month'], as_index=False)['PRCP']\n",
    "      .sum()\n",
    "      .rename(columns={'PRCP': 'prcp_month_sum_mm'})\n",
    ")\n",
    "\n",
    "# Climatology: mean of those monthly sums across years (per station × month)\n",
    "climo_prcp = (\n",
    "    monthly_sums.groupby(['ID', 'month'], as_index=False)['prcp_month_sum_mm']\n",
    "                .mean()\n",
    "                .rename(columns={'prcp_month_sum_mm': 'prcp_month_climo_mm'})\n",
    ")\n",
    "\n",
    "climo_pivot = climo_prcp.pivot(index='month', columns='ID', values='prcp_month_climo_mm')\n",
    "climo_pivot"
   ]
  },
  {
   "cell_type": "code",
   "execution_count": null,
   "id": "c1488741",
   "metadata": {},
   "outputs": [],
   "source": []
  }
 ],
 "metadata": {
  "kernelspec": {
   "display_name": "Python 3",
   "language": "python",
   "name": "python3"
  },
  "language_info": {
   "codemirror_mode": {
    "name": "ipython",
    "version": 3
   },
   "file_extension": ".py",
   "mimetype": "text/x-python",
   "name": "python",
   "nbconvert_exporter": "python",
   "pygments_lexer": "ipython3",
   "version": "3.13.7"
  }
 },
 "nbformat": 4,
 "nbformat_minor": 5
}
